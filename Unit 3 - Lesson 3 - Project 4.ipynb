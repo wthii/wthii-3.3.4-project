{
 "cells": [
  {
   "cell_type": "code",
   "execution_count": 1,
   "metadata": {
    "collapsed": true
   },
   "outputs": [],
   "source": [
    "import numpy as np"
   ]
  },
  {
   "cell_type": "code",
   "execution_count": 2,
   "metadata": {
    "collapsed": true
   },
   "outputs": [],
   "source": [
    "import matplotlib.pyplot as plt"
   ]
  },
  {
   "cell_type": "code",
   "execution_count": 3,
   "metadata": {
    "collapsed": true
   },
   "outputs": [],
   "source": [
    "import pandas as pd"
   ]
  },
  {
   "cell_type": "code",
   "execution_count": null,
   "metadata": {
    "collapsed": true
   },
   "outputs": [],
   "source": [
    "# Here is the first part of the assignment, involving six distributions (numbered astonishingly as 1, 2, and so forth)\n",
    "# with histograms, means, standard deviations and so on, with observations on how well mean and SD summarize the data\n",
    "#\n",
    "# 1.  A Normal Random Variable"
   ]
  },
  {
   "cell_type": "code",
   "execution_count": 4,
   "metadata": {
    "collapsed": true
   },
   "outputs": [],
   "source": [
    "normalvar = np.random.normal( 50, 10, 100 )"
   ]
  },
  {
   "cell_type": "code",
   "execution_count": 5,
   "metadata": {
    "collapsed": false
   },
   "outputs": [
    {
     "data": {
      "text/plain": [
       "(array([  1.,   3.,   2.,   6.,  16.,  13.,  15.,  16.,  13.,   8.,   6.,\n",
       "          1.]), array([ 20.08872411,  24.59592046,  29.10311681,  33.61031316,\n",
       "         38.1175095 ,  42.62470585,  47.1319022 ,  51.63909855,\n",
       "         56.1462949 ,  60.65349124,  65.16068759,  69.66788394,  74.17508029]), <a list of 12 Patch objects>)"
      ]
     },
     "execution_count": 5,
     "metadata": {},
     "output_type": "execute_result"
    }
   ],
   "source": [
    "plt.hist(normalvar, bins=12, color='red')"
   ]
  },
  {
   "cell_type": "code",
   "execution_count": 6,
   "metadata": {
    "collapsed": false
   },
   "outputs": [
    {
     "data": {
      "text/plain": [
       "<matplotlib.lines.Line2D at 0x10eaf9a20>"
      ]
     },
     "execution_count": 6,
     "metadata": {},
     "output_type": "execute_result"
    }
   ],
   "source": [
    "plt.axvline(normalvar.mean(), color='blue', linestyle='solid', linewidth=2)"
   ]
  },
  {
   "cell_type": "code",
   "execution_count": 7,
   "metadata": {
    "collapsed": false
   },
   "outputs": [
    {
     "data": {
      "text/plain": [
       "<matplotlib.lines.Line2D at 0x10eb0d7f0>"
      ]
     },
     "execution_count": 7,
     "metadata": {},
     "output_type": "execute_result"
    }
   ],
   "source": [
    "plt.axvline(normalvar.mean() + normalvar.std(), color='blue', linestyle='dashed', linewidth=2)"
   ]
  },
  {
   "cell_type": "code",
   "execution_count": 8,
   "metadata": {
    "collapsed": false
   },
   "outputs": [
    {
     "data": {
      "text/plain": [
       "<matplotlib.lines.Line2D at 0x10eb0df98>"
      ]
     },
     "execution_count": 8,
     "metadata": {},
     "output_type": "execute_result"
    }
   ],
   "source": [
    "plt.axvline(normalvar.mean() - normalvar.std(), color='blue', linestyle='dashed', linewidth=2)"
   ]
  },
  {
   "cell_type": "code",
   "execution_count": 9,
   "metadata": {
    "collapsed": false
   },
   "outputs": [
    {
     "data": {
      "image/png": "[encoded data removed]",
      "text/plain": [
       "<matplotlib.figure.Figure at 0x10c4e55c0>"
      ]
     },
     "metadata": {},
     "output_type": "display_data"
    }
   ],
   "source": [
    "plt.show()"
   ]
  },
  {
   "cell_type": "code",
   "execution_count": 10,
   "metadata": {
    "collapsed": true
   },
   "outputs": [],
   "source": [
    "# OK, here's what I see.  We randomly chose 100 observations from the normal distribution N(50, 10) and plotted these\n",
    "# in a lovely red histogram.  This histogram appears appropriately normal.  A larger data set (depending on the size)\n",
    "# would likely eliminate the variations from normality we witness here.  The mean of the data was calculated and marked\n",
    "# with the vertical solid blue line in the middle.  It sits just to the left of population mean 50, which is\n",
    "# unsurprising, as one would expect the sample mean to approximate the population mean.  The standard deviation of the\n",
    "# data was calculated, and vertical dashed blue lines were plotted at the mean plus one standard deviation, and the\n",
    "# mean minus one standard deviation.  It appears that the sample standard deviation is just a bit larger than the\n",
    "# population SD of 10.  As the sample SD should approximate the population SD, this is again unsurprising.  Now, one\n",
    "# expects about 68% of all observations in a normal distribution to lie within one (pop) SD of the (pop) mean;  I see\n",
    "# no contradictory indications to this by just eye-balling our graphic.  That 68% rule means, by symmetry, that\n",
    "# approximately 16% of our data should lie below the left vertical dashed line, and about 16% of our data should lie\n",
    "# above the right vertical dashed line.  Both these appear to be approximately the case.\n",
    "#\n",
    "# The normal distribution is completely characterized by the mean and standard deviation.  Because our histogram is\n",
    "# derived from normal data, it exhibits the expected symmetry.  Our mean does a good job of pegging the center of our\n",
    "# data set, and the standard deviation also provides a good characterization of how the data are spread out about the\n",
    "# mean.  When the data appear to come from a distribution which is not symmetric, the mean, which is sensitive to\n",
    "# skewness and outliers, isn't as good as the median in characterizing typical observations in the distribution.\n",
    "# Likewise, the asymmetry requires two measures -- one for observations below, another for those above -- of spread to\n",
    "# give a more accurate summary of the data."
   ]
  },
  {
   "cell_type": "code",
   "execution_count": 11,
   "metadata": {
    "collapsed": true
   },
   "outputs": [],
   "source": [
    "# 2. A Geometric Random Variable."
   ]
  },
  {
   "cell_type": "code",
   "execution_count": 12,
   "metadata": {
    "collapsed": true
   },
   "outputs": [],
   "source": [
    "geovar = np.random.geometric( 0.25, 100 )"
   ]
  },
  {
   "cell_type": "code",
   "execution_count": 13,
   "metadata": {
    "collapsed": false
   },
   "outputs": [
    {
     "data": {
      "text/plain": [
       "(array([ 40.,  12.,  20.,   9.,   8.,   2.,   0.,   4.,   2.,   1.,   0.,\n",
       "          2.]),\n",
       " array([  1. ,   2.5,   4. ,   5.5,   7. ,   8.5,  10. ,  11.5,  13. ,\n",
       "         14.5,  16. ,  17.5,  19. ]),\n",
       " <a list of 12 Patch objects>)"
      ]
     },
     "execution_count": 13,
     "metadata": {},
     "output_type": "execute_result"
    }
   ],
   "source": [
    "plt.hist( geovar, bins = 12, color = 'yellow' )"
   ]
  },
  {
   "cell_type": "code",
   "execution_count": 14,
   "metadata": {
    "collapsed": false
   },
   "outputs": [
    {
     "data": {
      "text/plain": [
       "<matplotlib.lines.Line2D at 0x10ec7db38>"
      ]
     },
     "execution_count": 14,
     "metadata": {},
     "output_type": "execute_result"
    }
   ],
   "source": [
    "plt.axvline( geovar.mean(), color = 'blue', linestyle = 'solid', linewidth = 2 )"
   ]
  },
  {
   "cell_type": "code",
   "execution_count": 15,
   "metadata": {
    "collapsed": false
   },
   "outputs": [
    {
     "data": {
      "text/plain": [
       "<matplotlib.lines.Line2D at 0x10ecbd278>"
      ]
     },
     "execution_count": 15,
     "metadata": {},
     "output_type": "execute_result"
    }
   ],
   "source": [
    "plt.axvline( geovar.mean() + geovar.std(), color = 'blue', linestyle = 'dashed', linewidth = 2 )"
   ]
  },
  {
   "cell_type": "code",
   "execution_count": 16,
   "metadata": {
    "collapsed": false
   },
   "outputs": [
    {
     "data": {
      "text/plain": [
       "<matplotlib.lines.Line2D at 0x10ecbdbe0>"
      ]
     },
     "execution_count": 16,
     "metadata": {},
     "output_type": "execute_result"
    }
   ],
   "source": [
    "plt.axvline( geovar.mean() - geovar.std(), color = 'blue', linestyle = 'dashed', linewidth = 2 )"
   ]
  },
  {
   "cell_type": "code",
   "execution_count": 17,
   "metadata": {
    "collapsed": false
   },
   "outputs": [
    {
     "data": {
      "image/png": "[encoded data removed]",
      "text/plain": [
       "<matplotlib.figure.Figure at 0x10ebb42b0>"
      ]
     },
     "metadata": {},
     "output_type": "display_data"
    }
   ],
   "source": [
    "plt.show()"
   ]
  },
  {
   "cell_type": "code",
   "execution_count": 18,
   "metadata": {
    "collapsed": true
   },
   "outputs": [],
   "source": [
    "# A geometric random variable counts the number of trials needed to attain the first success in a sequence of\n",
    "# bernoulli trials.  Assuming each trial has a probability of success of p (here p = 0.25), the population mean is the\n",
    "# reciprocal of p (so, here, 4).  Additionally, the population standard deviation of a geometric random variable with\n",
    "# parameter p is SD = (1/p)sqrt(1 - p) (so, here 2sqrt(3), or about 3.464).  Because the vertical lines are determined\n",
    "# by the sample mean and sample SD, these sample statistics only approximate the population parameters.  The lovely\n",
    "# histogram lends evidence of this approximation.  Now, the geometric distribution is not symmetric;  as such, mean and\n",
    "# standard deviation probably don't provide so good a numerical summary of our data as does the five number summary,\n",
    "# i. e. (min, Q1, median, Q3, max)."
   ]
  },
  {
   "cell_type": "code",
   "execution_count": 19,
   "metadata": {
    "collapsed": true
   },
   "outputs": [],
   "source": [
    "# 3. A Uniform Distribution"
   ]
  },
  {
   "cell_type": "code",
   "execution_count": 21,
   "metadata": {
    "collapsed": false
   },
   "outputs": [],
   "source": [
    "unifvar = np.random.uniform( 30, 70, 100 )"
   ]
  },
  {
   "cell_type": "code",
   "execution_count": 27,
   "metadata": {
    "collapsed": false
   },
   "outputs": [
    {
     "data": {
      "text/plain": [
       "(array([ 16.,  16.,  12.,  10.,   5.,  10.,  13.,  18.]),\n",
       " array([ 30.4156658 ,  35.31644969,  40.21723359,  45.11801748,\n",
       "         50.01880137,  54.91958527,  59.82036916,  64.72115305,  69.62193695]),\n",
       " <a list of 8 Patch objects>)"
      ]
     },
     "execution_count": 27,
     "metadata": {},
     "output_type": "execute_result"
    }
   ],
   "source": [
    "plt.hist( unifvar, bins = 8, color = 'orange' )"
   ]
  },
  {
   "cell_type": "code",
   "execution_count": 28,
   "metadata": {
    "collapsed": false
   },
   "outputs": [
    {
     "data": {
      "text/plain": [
       "<matplotlib.lines.Line2D at 0x10f080128>"
      ]
     },
     "execution_count": 28,
     "metadata": {},
     "output_type": "execute_result"
    }
   ],
   "source": [
    "plt.axvline( unifvar.mean(), color = 'blue', linestyle = 'solid', linewidth = 2 )"
   ]
  },
  {
   "cell_type": "code",
   "execution_count": 29,
   "metadata": {
    "collapsed": false
   },
   "outputs": [
    {
     "data": {
      "text/plain": [
       "<matplotlib.lines.Line2D at 0x10f17e6d8>"
      ]
     },
     "execution_count": 29,
     "metadata": {},
     "output_type": "execute_result"
    }
   ],
   "source": [
    "plt.axvline( unifvar.mean() + unifvar.std(), color = 'blue', linestyle = 'dashed', linewidth = 2 )"
   ]
  },
  {
   "cell_type": "code",
   "execution_count": 30,
   "metadata": {
    "collapsed": false
   },
   "outputs": [
    {
     "data": {
      "text/plain": [
       "<matplotlib.lines.Line2D at 0x10f17ec50>"
      ]
     },
     "execution_count": 30,
     "metadata": {},
     "output_type": "execute_result"
    }
   ],
   "source": [
    "plt.axvline( unifvar.mean() - unifvar.std(), color = 'blue', linestyle = 'dashed', linewidth = 2 )"
   ]
  },
  {
   "cell_type": "code",
   "execution_count": 31,
   "metadata": {
    "collapsed": false
   },
   "outputs": [
    {
     "data": {
      "image/png": "[encoded data removed]",
      "text/plain": [
       "<matplotlib.figure.Figure at 0x10f0487b8>"
      ]
     },
     "metadata": {},
     "output_type": "display_data"
    }
   ],
   "source": [
    "plt.show()"
   ]
  },
  {
   "cell_type": "code",
   "execution_count": 32,
   "metadata": {
    "collapsed": true
   },
   "outputs": [],
   "source": [
    "# OK, here we modeled a uniform distribution on the interval [30, 70].  Any subinterval of uniform width inside\n",
    "# [30, 70] carries the same probability as any other;  with only 100 observations chosen, it is possible for a\n",
    "# histogram to bear a distinctly non-uniform appearance.  This is what we see here.  The population mean of\n",
    "# unif[30, 70] is 50 and the pop SD is between 11 and 12.  Our sample mean sits just a hair under 50;  this meets our\n",
    "# expectations.  But because blind randomness, just through chance, gave us a histogram bearing a bimodal appearance,\n",
    "# our sample standard deviation is clearly higher than the population parameter it seeks to approximate.  It should\n",
    "# be noted that uniform distributions are symmetric about their means, and even though we have this crazy bimodal\n",
    "# looking histogram, it also shows symmetry about the mean.  As such, sample mean and SD provide a pretty good\n",
    "# numerical summary of our data."
   ]
  },
  {
   "cell_type": "code",
   "execution_count": 33,
   "metadata": {
    "collapsed": true
   },
   "outputs": [],
   "source": [
    "# 4. A Binomial Distribution"
   ]
  },
  {
   "cell_type": "code",
   "execution_count": 42,
   "metadata": {
    "collapsed": false
   },
   "outputs": [],
   "source": [
    "binomvar = np.random.binomial( 10, 0.60, 100 )"
   ]
  },
  {
   "cell_type": "code",
   "execution_count": 48,
   "metadata": {
    "collapsed": false
   },
   "outputs": [
    {
     "data": {
      "text/plain": [
       "(array([  1.,   3.,  10.,  24.,  27.,  22.,  10.,   3.]),\n",
       " array([ 2.   ,  2.875,  3.75 ,  4.625,  5.5  ,  6.375,  7.25 ,  8.125,  9.   ]),\n",
       " <a list of 8 Patch objects>)"
      ]
     },
     "execution_count": 48,
     "metadata": {},
     "output_type": "execute_result"
    }
   ],
   "source": [
    "plt.hist( binomvar, bins = 8, color = 'green' )"
   ]
  },
  {
   "cell_type": "code",
   "execution_count": 49,
   "metadata": {
    "collapsed": false
   },
   "outputs": [
    {
     "data": {
      "text/plain": [
       "<matplotlib.lines.Line2D at 0x10f4bcc88>"
      ]
     },
     "execution_count": 49,
     "metadata": {},
     "output_type": "execute_result"
    }
   ],
   "source": [
    "plt.axvline( binomvar.mean(), color = 'blue', linestyle = 'solid', linewidth = 2 )"
   ]
  },
  {
   "cell_type": "code",
   "execution_count": 50,
   "metadata": {
    "collapsed": false
   },
   "outputs": [
    {
     "data": {
      "text/plain": [
       "<matplotlib.lines.Line2D at 0x10f5c62b0>"
      ]
     },
     "execution_count": 50,
     "metadata": {},
     "output_type": "execute_result"
    }
   ],
   "source": [
    "plt.axvline( binomvar.mean() + binomvar.std(), color = 'blue', linestyle = 'dashed', linewidth = 2 )"
   ]
  },
  {
   "cell_type": "code",
   "execution_count": 51,
   "metadata": {
    "collapsed": false
   },
   "outputs": [
    {
     "data": {
      "text/plain": [
       "<matplotlib.lines.Line2D at 0x10f5c67f0>"
      ]
     },
     "execution_count": 51,
     "metadata": {},
     "output_type": "execute_result"
    }
   ],
   "source": [
    "plt.axvline( binomvar.mean() - binomvar.std(), color = 'blue', linestyle = 'dashed', linewidth = 2 )"
   ]
  },
  {
   "cell_type": "code",
   "execution_count": 52,
   "metadata": {
    "collapsed": false
   },
   "outputs": [
    {
     "data": {
      "image/png": "[encoded data removed]",
      "text/plain": [
       "<matplotlib.figure.Figure at 0x10f36dcc0>"
      ]
     },
     "metadata": {},
     "output_type": "display_data"
    }
   ],
   "source": [
    "plt.show()"
   ]
  },
  {
   "cell_type": "code",
   "execution_count": 53,
   "metadata": {
    "collapsed": true
   },
   "outputs": [],
   "source": [
    "# A binomial random variable counts successes on a finite sequence of bernoulli trials (i.e. a sequence of trials in\n",
    "# which outcomes are either success or failure with a constant probability of success, and the trials are all\n",
    "# independent of one another).  Here, our binomial random variable X counts successes on a sequence of n = 10 trials\n",
    "# in which the success probability on each trial is p = 0.60.  This is just like a 60% free throw shooter going to the\n",
    "# line for 10 shots, and counting how many free throws he makes.  A number of things should be noted here.  First, the\n",
    "# binomial distributions are symmetric with a population mean of np (10*0.60 = 6 here) and a pop SD of sqrt(np(1 - p))\n",
    "# (sqrt(10*0.60*0.40), or about 1.55 in our example here).  Under the right conditions on n and p, the binomial\n",
    "# distribution is approximated by a normal distribution with the same mean and standar deviation.  That may seem weird,\n",
    "# seeing as how binomial distributions govern a discrete random variable, but normal random variables are continuous.\n",
    "# Fear not.  It is the normal approximation to the binomial which enables the central limit theorem and therefore so\n",
    "# many of our inferential procedures.  But enough of this lovely theoretical blather, however important it may be.\n",
    "# Look at that glorious green histogram!  It looks a little skewed to the left, but not enough to deny a pretty damned\n",
    "# obvious symmetry.  And, wow, does that sucker ever look norm norm normal.  Our solid blue vertical stripe marks the\n",
    "# sample mean, and baby it ain't far from the 0.60 the theory champions as the pop mean.  It sure looks like we go\n",
    "# right and left about 1.55 or so to get about an SD above and below the mean.  This ALL means that our mean and SD\n",
    "# are doing a perfectly groovy job of summarizing our data.  Just in case the theme weren't sufficiently obvious:\n",
    "# symmetric distributions foster data sets for which sample mean and SD give just a swell data summary;  asymmetric\n",
    "# distributions produce data which ought to be summarized some other way.  I like the five number summary in that\n",
    "# situation -- in which case you use a boxplot as your graphic of choice."
   ]
  },
  {
   "cell_type": "code",
   "execution_count": 54,
   "metadata": {
    "collapsed": true
   },
   "outputs": [],
   "source": [
    "# 5.  A Chi-squared Distribution"
   ]
  },
  {
   "cell_type": "code",
   "execution_count": 55,
   "metadata": {
    "collapsed": true
   },
   "outputs": [],
   "source": [
    "csvar = np.random.chisquare( 9, 100 )"
   ]
  },
  {
   "cell_type": "code",
   "execution_count": 56,
   "metadata": {
    "collapsed": false
   },
   "outputs": [
    {
     "data": {
      "text/plain": [
       "(array([ 15.,  19.,  26.,  16.,  15.,   3.,   2.,   2.,   0.,   2.]),\n",
       " array([  2.76115916,   5.04231294,   7.32346671,   9.60462048,\n",
       "         11.88577425,  14.16692803,  16.4480818 ,  18.72923557,\n",
       "         21.01038935,  23.29154312,  25.57269689]),\n",
       " <a list of 10 Patch objects>)"
      ]
     },
     "execution_count": 56,
     "metadata": {},
     "output_type": "execute_result"
    }
   ],
   "source": [
    "plt.hist( csvar, bins = 10, color = 'purple' )"
   ]
  },
  {
   "cell_type": "code",
   "execution_count": 57,
   "metadata": {
    "collapsed": false
   },
   "outputs": [
    {
     "data": {
      "text/plain": [
       "<matplotlib.lines.Line2D at 0x10f61b898>"
      ]
     },
     "execution_count": 57,
     "metadata": {},
     "output_type": "execute_result"
    }
   ],
   "source": [
    "plt.axvline( csvar.mean(), color = 'blue', linestyle = 'solid', linewidth = 2 )"
   ]
  },
  {
   "cell_type": "code",
   "execution_count": 58,
   "metadata": {
    "collapsed": false
   },
   "outputs": [
    {
     "data": {
      "text/plain": [
       "<matplotlib.lines.Line2D at 0x10f728128>"
      ]
     },
     "execution_count": 58,
     "metadata": {},
     "output_type": "execute_result"
    }
   ],
   "source": [
    "plt.axvline( csvar.mean() + csvar.std(), color = 'blue', linestyle = 'dashed', linewidth = 2 )"
   ]
  },
  {
   "cell_type": "code",
   "execution_count": 59,
   "metadata": {
    "collapsed": false
   },
   "outputs": [
    {
     "data": {
      "text/plain": [
       "<matplotlib.lines.Line2D at 0x10f7287b8>"
      ]
     },
     "execution_count": 59,
     "metadata": {},
     "output_type": "execute_result"
    }
   ],
   "source": [
    "plt.axvline( csvar.mean() - csvar.std(), color = 'blue', linestyle = 'dashed', linewidth = 2 )"
   ]
  },
  {
   "cell_type": "code",
   "execution_count": 60,
   "metadata": {
    "collapsed": false
   },
   "outputs": [
    {
     "data": {
      "image/png": "[encoded data removed]",
      "text/plain": [
       "<matplotlib.figure.Figure at 0x10f5d5240>"
      ]
     },
     "metadata": {},
     "output_type": "display_data"
    }
   ],
   "source": [
    "plt.show()"
   ]
  },
  {
   "cell_type": "code",
   "execution_count": 61,
   "metadata": {
    "collapsed": true
   },
   "outputs": [],
   "source": [
    "# OK, here's a chi-square distribution with 9 degrees of freedom.  A chi-square distribution with n degrees of freedom\n",
    "# governs sample standard deviations on n+1 observations.  Look at that long upper tail!  It's not a symmetric\n",
    "# distribution.  The mean of chi-square with df degrees of freedom is df -- sure looks like that's working for us here.\n",
    "# The SD is sqrt(2df) (here that's sqrt(18), or about 4.24), and our graphic shows approximately that SD.  Again,\n",
    "# because of the asymmetry, sample mean and SD provide a lousy numerical summary."
   ]
  },
  {
   "cell_type": "code",
   "execution_count": 62,
   "metadata": {
    "collapsed": true
   },
   "outputs": [],
   "source": [
    "# 6.  A Poisson Distribution"
   ]
  },
  {
   "cell_type": "code",
   "execution_count": 94,
   "metadata": {
    "collapsed": true
   },
   "outputs": [],
   "source": [
    "pvar = np.random.poisson( 3, 100 )"
   ]
  },
  {
   "cell_type": "code",
   "execution_count": 95,
   "metadata": {
    "collapsed": false
   },
   "outputs": [
    {
     "data": {
      "text/plain": [
       "(array([  7.,  10.,  27.,  17.,  24.,   5.,   5.,   5.]),\n",
       " array([ 0.,  1.,  2.,  3.,  4.,  5.,  6.,  7.,  8.]),\n",
       " <a list of 8 Patch objects>)"
      ]
     },
     "execution_count": 95,
     "metadata": {},
     "output_type": "execute_result"
    }
   ],
   "source": [
    "plt.hist( pvar, bins = 8, color = 'teal' )"
   ]
  },
  {
   "cell_type": "code",
   "execution_count": 96,
   "metadata": {
    "collapsed": false
   },
   "outputs": [
    {
     "data": {
      "text/plain": [
       "<matplotlib.lines.Line2D at 0x10fe27f60>"
      ]
     },
     "execution_count": 96,
     "metadata": {},
     "output_type": "execute_result"
    }
   ],
   "source": [
    "plt.axvline( pvar.mean(), color = 'blue', linestyle = 'solid', linewidth = 2 )"
   ]
  },
  {
   "cell_type": "code",
   "execution_count": 97,
   "metadata": {
    "collapsed": false
   },
   "outputs": [
    {
     "data": {
      "text/plain": [
       "<matplotlib.lines.Line2D at 0x10ff315f8>"
      ]
     },
     "execution_count": 97,
     "metadata": {},
     "output_type": "execute_result"
    }
   ],
   "source": [
    "plt.axvline( pvar.mean() + pvar.std(), color = 'blue', linestyle = 'dashed', linewidth = 2 )"
   ]
  },
  {
   "cell_type": "code",
   "execution_count": 98,
   "metadata": {
    "collapsed": false
   },
   "outputs": [
    {
     "data": {
      "text/plain": [
       "<matplotlib.lines.Line2D at 0x10ff31b38>"
      ]
     },
     "execution_count": 98,
     "metadata": {},
     "output_type": "execute_result"
    }
   ],
   "source": [
    "plt.axvline( pvar.mean() - pvar.std(), color = 'blue', linestyle = 'dashed', linewidth = 2 )"
   ]
  },
  {
   "cell_type": "code",
   "execution_count": 99,
   "metadata": {
    "collapsed": false
   },
   "outputs": [
    {
     "data": {
      "image/png": "[encoded data removed]",
      "text/plain": [
       "<matplotlib.figure.Figure at 0x10fdefc18>"
      ]
     },
     "metadata": {},
     "output_type": "display_data"
    }
   ],
   "source": [
    "plt.show()"
   ]
  },
  {
   "cell_type": "code",
   "execution_count": 93,
   "metadata": {
    "collapsed": true
   },
   "outputs": [],
   "source": [
    "# This is a poisson distribution with parameter lambda = 3.  Its population mean is lambda and SD is sqrt(lambda).  The\n",
    "# sample mean and SD appear to approximate these population parameters in the graphic.  Now, for small values of lambda\n",
    "# (and in this context, 3 can be considered small), the poisson distributions are not symmetric.  For no values of\n",
    "# lambda are the poisson distributions perfectly mathematically symmetric, but as lambda increases the distributions\n",
    "# grow increasingly symmetric.  So, again, because of the asymmetry, the sample mean and SD provide a crappy numeric\n",
    "# data summary.  If lambda were bigger, the distribution would be more symmetric, and the mean and SD might be OK."
   ]
  },
  {
   "cell_type": "code",
   "execution_count": 100,
   "metadata": {
    "collapsed": true
   },
   "outputs": [],
   "source": [
    "# As for question 4 of the first part of this assignment, I think I've answered already.  But for those folks who like\n",
    "# beating already dead horses, here's the dealio:  Data extracted from symmetric distributions tend to be well\n",
    "# summarized by mean and standard deviation;  those extracted from asymmetric distributions tend to require a different\n",
    "# numerical summary.  I say \"tend\" here because of randomness:  it can make a fool of you (and I'll thank you not to\n",
    "# ask me how I know that).  One thing made clear by examining so many n = 100 samples is that histograms can suggest\n",
    "# asymmetry when the underlying distribution is symmetric, and symmetry when the underlying distribution is asymmetric.\n",
    "# We're operating in the fool's paradise of knowing the underlying distribution for our sample data.  When you deal\n",
    "# with real live data bequeathed to you via some unknown process, you don't know if it should morally be symmetric or\n",
    "# not.  As a statistician, your default setting ought to be this:  don't assume symmetry without a good reason for\n",
    "# doing so.  If you have a big enough sample (and n = 100 ought to be big enough) and you see symmetry in your\n",
    "# histogram, ask yourself if there's a good reason why your data should be symmetric.  Measurements taken from nature\n",
    "# (for example, single breed puppy birth weights, or single species bird egg lengths) or from industrial processes\n",
    "# (such as machine screw lengths, ball bearing diameters or WHEATIES box contents by weight) are often normal, and\n",
    "# therefore symmetric.\n",
    "#\n",
    "# Finally, it's clear why mean and SD suck when the data are asymmetric:  people speak of \"the standard deviation\n",
    "# about the mean,\" i.e., to the right and the left of the mean.  If you see different things on either side of the\n",
    "# mean, choose a different summary description of your data.  The five number summary (and its graphical cousin, the\n",
    "# boxplot) report separate information on either side of the center of your data, and therefore offer a more\n",
    "# complete description."
   ]
  },
  {
   "cell_type": "code",
   "execution_count": 101,
   "metadata": {
    "collapsed": true
   },
   "outputs": [],
   "source": [
    "# HERE WE GO with the second part of the assignment."
   ]
  },
  {
   "cell_type": "code",
   "execution_count": 103,
   "metadata": {
    "collapsed": true
   },
   "outputs": [],
   "source": [
    "norm1 = np.random.normal( 5, 0.5, 1000 )"
   ]
  },
  {
   "cell_type": "code",
   "execution_count": 104,
   "metadata": {
    "collapsed": true
   },
   "outputs": [],
   "source": [
    "norm2 = np.random.normal( 10, 1.0, 1000 )"
   ]
  },
  {
   "cell_type": "code",
   "execution_count": 105,
   "metadata": {
    "collapsed": true
   },
   "outputs": [],
   "source": [
    "norm3 = norm1 + norm2"
   ]
  },
  {
   "cell_type": "code",
   "execution_count": 108,
   "metadata": {
    "collapsed": false
   },
   "outputs": [
    {
     "data": {
      "image/png": "[encoded data removed]",
      "text/plain": [
       "<matplotlib.figure.Figure at 0x110579390>"
      ]
     },
     "metadata": {},
     "output_type": "display_data"
    }
   ],
   "source": [
    "plt.figure( figsize = ( 5, 15 ) )\n",
    "\n",
    "plt.subplot( 3, 1, 1 )\n",
    "plt.hist( norm1, color = 'yellow')\n",
    "plt.ylabel( 'Frequencies' )\n",
    "plt.title( 'Random Series N( 5, 0.5 )' )\n",
    "plt.axvline( norm1.mean(), color = 'red', linestyle = 'solid', linewidth = 2 )\n",
    "plt.axvline( norm1.mean() + norm1.std(), color='red', linestyle='dashed', linewidth=2 )\n",
    "plt.axvline( norm1.mean() - norm1.std(), color='red', linestyle='dashed', linewidth=2 )\n",
    "\n",
    "plt.subplot( 3, 1, 2 )\n",
    "plt.hist( norm2, color = 'blue' )\n",
    "plt.ylabel( 'Frequencies' )\n",
    "plt.title( 'Random Series N( 10, 1.0 )' )\n",
    "plt.axvline( norm2.mean(), color = 'red', linestyle = 'solid', linewidth = 2 )\n",
    "plt.axvline( norm2.mean() + norm2.std(), color='red', linestyle='dashed', linewidth=2 )\n",
    "plt.axvline( norm2.mean() - norm2.std(), color='red', linestyle='dashed', linewidth=2 )\n",
    "\n",
    "plt.subplot( 3, 1, 3 )\n",
    "plt.hist( norm3, color = 'green' )\n",
    "plt.ylabel( 'Frequencies' )\n",
    "plt.title( 'Summed Values' )\n",
    "plt.axvline( norm3.mean(), color = 'red', linestyle = 'solid', linewidth = 2 )\n",
    "plt.axvline( norm3.mean() + norm3.std(), color='red', linestyle='dashed', linewidth=2 )\n",
    "plt.axvline( norm3.mean() - norm3.std(), color='red', linestyle='dashed', linewidth=2 )\n",
    "\n",
    "plt.show()"
   ]
  },
  {
   "cell_type": "code",
   "execution_count": null,
   "metadata": {
    "collapsed": true
   },
   "outputs": [],
   "source": [
    "# I liked the yellow + blue = green vibe, so I had to change the solid and dashed vertical lines representing means and\n",
    "# 1 SD above and below the mean to red.  Apologies if this yields confusion.\n",
    "#\n",
    "# As in the earlier exercises, we're using sample statistics to illustrate theoretical principles regarding the\n",
    "# underlying distributions.  We are modeling the behaviors of random variables, which we usually represent with\n",
    "# capital roman letters X, Y, Z, ... .  We should observe that if we define Z as the sum of two random variables X and\n",
    "# Y, that is, Z = X + Y, then Z is a random variable with its own mean and standard deviation.  If we use E(X) to\n",
    "# denote the expected value (or population mean) of random variable X, Var(X) to denote its variance and SD(X) to\n",
    "# denote its (population) standard deviation, then the following hold true:  (1) E(Z) = E(X + Y) = E(X) + E(Y);\n",
    "# (2) Var(Z) = Var(X + Y) = Var(X) + Var(Y);  (3) Since for any random variable W, Var(W) = SD(W)^2 (i.e., squared),\n",
    "# SD(Z) = sqrt(Var(Z)) = sqrt(Var(X + Y)) = sqrt(Var(X) + Var(Y)) = sqrt(SD(X)^2 + SD(Y)^2).  Finally, it is necessary\n",
    "# to point out that a sum of two normal random variables is normal (huzzah!)\n",
    "# \n",
    "# Now, I do think it's clear that the green histogram at bottom, which depicts the distribution of our random variable\n",
    "# rand3, certainly does appear to be normal.  Mixing mathematical notation with python variables in a way which\n",
    "# promotes less confusion than I fear,\n",
    "# E(rand1) = 5, E(rand2) = 10, and E(rand3) = E(rand1) + E(rand2) = 5 + 10 = 15.  Wow, does that ever appear to be the\n",
    "# case with our data as indicated in the histograms.  Also, SD(rand1) = 0.5, SD(rand2) = 1, and so\n",
    "# SD(rand3) = sqrt((0.5)^2 + 1^2) = sqrt(1.25), or approximately 1.118.  Our lovely graphics above speak to this truth\n",
    "# as well."
   ]
  }
 ],
 "metadata": {
  "celltoolbar": "Raw Cell Format",
  "kernelspec": {
   "display_name": "Python 3",
   "language": "python",
   "name": "python3"
  },
  "language_info": {
   "codemirror_mode": {
    "name": "ipython",
    "version": 3
   },
   "file_extension": ".py",
   "mimetype": "text/x-python",
   "name": "python",
   "nbconvert_exporter": "python",
   "pygments_lexer": "ipython3",
   "version": "3.6.0"
  }
 },
 "nbformat": 4,
 "nbformat_minor": 2
}
